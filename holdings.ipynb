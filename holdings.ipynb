{
 "cells": [
  {
   "cell_type": "markdown",
   "metadata": {},
   "source": [
    "# Hedge Fund Holdings Analysis via EDGAR"
   ]
  },
  {
   "cell_type": "markdown",
   "metadata": {},
   "source": [
    "## 1. Setup and Imports"
   ]
  },
  {
   "cell_type": "code",
   "execution_count": 119,
   "metadata": {},
   "outputs": [],
   "source": [
    "from sec_edgar_downloader import Downloader\n",
    "from bs4 import BeautifulSoup\n",
    "\n",
    "import os\n",
    "import re\n",
    "import requests\n",
    "import unicodedata\n",
    "import pandas as pd\n",
    "import csv\n",
    "import xml.etree.ElementTree as ET"
   ]
  },
  {
   "cell_type": "code",
   "execution_count": 128,
   "metadata": {},
   "outputs": [
    {
     "data": {
      "text/plain": [
       "95"
      ]
     },
     "execution_count": 128,
     "metadata": {},
     "output_type": "execute_result"
    }
   ],
   "source": [
    "dl = Downloader(\"Narain Nair\", \"nair4986@gmail.com\")\n",
    "dl.get(\"13F-HR\", \"1167483\")"
   ]
  },
  {
   "cell_type": "markdown",
   "metadata": {},
   "source": [
    "## 2. Parse and Structure Filing Data"
   ]
  },
  {
   "cell_type": "code",
   "execution_count": 129,
   "metadata": {},
   "outputs": [],
   "source": [
    "def extract_info_table_xml(txt_file_path):\n",
    "    \"\"\"\n",
    "    Extracts the XML string within <INFORMATIONTABLE> tags from the full .txt filing.\n",
    "    \"\"\"\n",
    "    with open(txt_file_path, 'r', encoding='utf-8', errors='ignore') as f:\n",
    "        content = f.read()\n",
    "\n",
    "    # Use regex to extract everything between <INFORMATIONTABLE>...</INFORMATIONTABLE>\n",
    "    match = re.search(r\"<INFORMATIONTABLE[\\s\\S]*?</INFORMATIONTABLE>\", content, re.IGNORECASE)\n",
    "\n",
    "    if match:\n",
    "        return match.group(0)\n",
    "    else:\n",
    "        return None  # No XML found"
   ]
  },
  {
   "cell_type": "code",
   "execution_count": 130,
   "metadata": {},
   "outputs": [],
   "source": [
    "def parse_info_table_xml(xml_string):\n",
    "    \"\"\"\n",
    "    Parses the extracted XML string into a list of holdings as a pandas DataFrame.\n",
    "    \"\"\"\n",
    "    # XML has namespace — remove it for easier parsing\n",
    "    xml_string_clean = re.sub(r'\\sxmlns=\"[^\"]+\"', '', xml_string, count=1)\n",
    "\n",
    "    root = ET.fromstring(xml_string_clean)\n",
    "\n",
    "    data = []\n",
    "    for info in root.findall(\"infoTable\"):\n",
    "        row = {}\n",
    "        for child in info:\n",
    "            tag = child.tag.strip()\n",
    "            text = child.text.strip() if child.text else ''\n",
    "            row[tag] = text\n",
    "        data.append(row)\n",
    "\n",
    "    return pd.DataFrame(data)"
   ]
  },
  {
   "cell_type": "code",
   "execution_count": 131,
   "metadata": {},
   "outputs": [],
   "source": [
    "def filter_2016(folder_name):\n",
    "    match = re.search(r'-([0-9]{2})-', folder_name)\n",
    "    if match:\n",
    "        year_suffix = int(match.group(1))\n",
    "        year = 2000 + year_suffix\n",
    "        return year > 2016\n",
    "    return False"
   ]
  },
  {
   "cell_type": "code",
   "execution_count": 135,
   "metadata": {},
   "outputs": [
    {
     "name": "stdout",
     "output_type": "stream",
     "text": [
      "Processing: ./sec-edgar-filings/0001167483/13F-HR/0000919574-20-007148/full-submission.txt\n",
      "Processing: ./sec-edgar-filings/0001167483/13F-HR/0000919574-24-004713/full-submission.txt\n",
      "Processing: ./sec-edgar-filings/0001167483/13F-HR/0000919574-18-001706/full-submission.txt\n",
      "Processing: ./sec-edgar-filings/0001167483/13F-HR/0000919574-22-006727/full-submission.txt\n",
      "Processing: ./sec-edgar-filings/0001167483/13F-HR/0000919574-20-005337/full-submission.txt\n",
      "Processing: ./sec-edgar-filings/0001167483/13F-HR/0000919574-18-005626/full-submission.txt\n",
      "Processing: ./sec-edgar-filings/0001167483/13F-HR/0000919574-23-001481/full-submission.txt\n",
      "Processing: ./sec-edgar-filings/0001167483/13F-HR/0000919574-21-007099/full-submission.txt\n",
      "Processing: ./sec-edgar-filings/0001167483/13F-HR/0000919574-25-003217/full-submission.txt\n",
      "Processing: ./sec-edgar-filings/0001167483/13F-HR/0000919574-19-001612/full-submission.txt\n",
      "Processing: ./sec-edgar-filings/0001167483/13F-HR/0000919574-24-001349/full-submission.txt\n",
      "Processing: ./sec-edgar-filings/0001167483/13F-HR/0000919574-22-005053/full-submission.txt\n",
      "Processing: ./sec-edgar-filings/0001167483/13F-HR/0000919574-20-003646/full-submission.txt\n",
      "Processing: ./sec-edgar-filings/0001167483/13F-HR/0000919574-21-005372/full-submission.txt\n",
      "Processing: ./sec-edgar-filings/0001167483/13F-HR/0000919574-17-001974/full-submission.txt\n",
      "Processing: ./sec-edgar-filings/0001167483/13F-HR/0000919574-22-001371/full-submission.txt\n",
      "Processing: ./sec-edgar-filings/0001167483/13F-HR/0000919574-17-006218/full-submission.txt\n",
      "Processing: ./sec-edgar-filings/0001167483/13F-HR/0000919574-18-007445/full-submission.txt\n",
      "Processing: ./sec-edgar-filings/0001167483/13F-HR/0000919574-19-005381/full-submission.txt\n",
      "Processing: ./sec-edgar-filings/0001167483/13F-HR/0000919574-25-001475/full-submission.txt\n",
      "Processing: ./sec-edgar-filings/0001167483/13F-HR/0000919574-24-006690/full-submission.txt\n",
      "Processing: ./sec-edgar-filings/0001167483/13F-HR/0000919574-23-006372/full-submission.txt\n",
      "Processing: ./sec-edgar-filings/0001167483/13F-HR/0000919574-19-003690/full-submission.txt\n",
      "Processing: ./sec-edgar-filings/0001167483/13F-HR/0000919574-21-003697/full-submission.txt\n",
      "Processing: ./sec-edgar-filings/0001167483/13F-HR/0000919574-17-004286/full-submission.txt\n",
      "Processing: ./sec-edgar-filings/0001167483/13F-HR/0000919574-19-007198/full-submission.txt\n",
      "Processing: ./sec-edgar-filings/0001167483/13F-HR/0000919574-23-003305/full-submission.txt\n",
      "Processing: ./sec-edgar-filings/0001167483/13F-HR/0000919574-23-004771/full-submission.txt\n",
      "Processing: ./sec-edgar-filings/0001167483/13F-HR/0000919574-21-001376/full-submission.txt\n",
      "Processing: ./sec-edgar-filings/0001167483/13F-HR/0000919574-17-008069/full-submission.txt\n",
      "Processing: ./sec-edgar-filings/0001167483/13F-HR/0000919574-20-001541/full-submission.txt\n",
      "Processing: ./sec-edgar-filings/0001167483/13F-HR/0000919574-18-003754/full-submission.txt\n",
      "Processing: ./sec-edgar-filings/0001167483/13F-HR/0000919574-24-003172/full-submission.txt\n",
      "Processing: ./sec-edgar-filings/0001167483/13F-HR/0000919574-22-003470/full-submission.txt\n"
     ]
    }
   ],
   "source": [
    "folder_path = \"./sec-edgar-filings/0001167483/13F-HR/\"\n",
    "holdings = []\n",
    "\n",
    "for folder in os.listdir(folder_path):\n",
    "    if not filter_2016(folder):\n",
    "        continue\n",
    "\n",
    "    access_folder_path = os.path.join(folder_path, folder)\n",
    "\n",
    "    for file in os.listdir(access_folder_path):\n",
    "        if file.endswith(\".txt\"):\n",
    "            file_path = os.path.join(access_folder_path, file)\n",
    "            print(f\"Processing: {file_path}\")\n",
    "            \n",
    "            xml_str = extract_info_table_xml(file_path)\n",
    "            if xml_str:\n",
    "                df = parse_info_table_xml(xml_str)\n",
    "                df[\"source_file\"] = file\n",
    "                df[\"accession\"] = folder\n",
    "                holdings.append(df)\n",
    "\n",
    "master_holdings_df = pd.concat(holdings, ignore_index=True)"
   ]
  }
 ],
 "metadata": {
  "kernelspec": {
   "display_name": "Python 3",
   "language": "python",
   "name": "python3"
  },
  "language_info": {
   "codemirror_mode": {
    "name": "ipython",
    "version": 3
   },
   "file_extension": ".py",
   "mimetype": "text/x-python",
   "name": "python",
   "nbconvert_exporter": "python",
   "pygments_lexer": "ipython3",
   "version": "3.9.6"
  }
 },
 "nbformat": 4,
 "nbformat_minor": 2
}
